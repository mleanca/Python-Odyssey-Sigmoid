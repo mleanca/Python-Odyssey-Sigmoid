{
 "cells": [
  {
   "cell_type": "code",
   "execution_count": 9,
   "metadata": {},
   "outputs": [],
   "source": [
    "# Aceasta este a doua sarcină legată de booleeni în python\n",
    "# Creați o variabilă numită `is_student` și setați-o la `True`\n",
    "is_student = True"
   ]
  },
  {
   "cell_type": "code",
   "execution_count": 10,
   "metadata": {},
   "outputs": [
    {
     "name": "stdout",
     "output_type": "stream",
     "text": [
      "True\n"
     ]
    }
   ],
   "source": [
    "# Acum tipăriți valoarea variabilei `is_student` folosind funcția `print`\n",
    "print(is_student)"
   ]
  },
  {
   "cell_type": "code",
   "execution_count": 11,
   "metadata": {},
   "outputs": [
    {
     "name": "stdout",
     "output_type": "stream",
     "text": [
      "False\n"
     ]
    }
   ],
   "source": [
    "# Acum creați o nouă variabilă numită `is_child` și setați-o la `False` și tipăriți valoarea variabilei `is_child` folosind funcția `print`\n",
    "is_child = False\n",
    "print(is_child)"
   ]
  },
  {
   "cell_type": "code",
   "execution_count": 12,
   "metadata": {},
   "outputs": [
    {
     "name": "stdout",
     "output_type": "stream",
     "text": [
      "False\n"
     ]
    }
   ],
   "source": [
    "# Acum utilizați operatorul `and` pentru a verifica dacă atât `is_student`, cât și `is_child` sunt `True` și tipăriți rezultatul folosind funcția `print`\n",
    "print(is_student and is_child)"
   ]
  },
  {
   "cell_type": "code",
   "execution_count": 13,
   "metadata": {},
   "outputs": [
    {
     "name": "stdout",
     "output_type": "stream",
     "text": [
      "True\n"
     ]
    }
   ],
   "source": [
    "#Acum utilizați operatorul `or` pentru a verifica dacă cel puțin una dintre `is_student` și `is_child` este `True` și tipăriți rezultatul folosind funcția `print`\n",
    "print(is_student or is_child)"
   ]
  },
  {
   "cell_type": "code",
   "execution_count": 16,
   "metadata": {},
   "outputs": [
    {
     "name": "stdout",
     "output_type": "stream",
     "text": [
      "False\n"
     ]
    }
   ],
   "source": [
    "#Acum utilizați operatorul `not` pentru a verifica dacă `is_student` este `False` și tipăriți rezultatul folosind funcția `print`\n",
    "print(not is_student )"
   ]
  }
 ],
 "metadata": {
  "kernelspec": {
   "display_name": "Python 3",
   "language": "python",
   "name": "python3"
  },
  "language_info": {
   "codemirror_mode": {
    "name": "ipython",
    "version": 3
   },
   "file_extension": ".py",
   "mimetype": "text/x-python",
   "name": "python",
   "nbconvert_exporter": "python",
   "pygments_lexer": "ipython3",
   "version": "3.12.2"
  }
 },
 "nbformat": 4,
 "nbformat_minor": 2
}
