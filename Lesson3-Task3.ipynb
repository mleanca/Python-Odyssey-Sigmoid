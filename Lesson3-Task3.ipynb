{
 "cells": [
  {
   "cell_type": "code",
   "execution_count": 64,
   "metadata": {},
   "outputs": [],
   "source": [
    "# Aceasta este a treia ta sarcină legată de numere în python\n",
    "# Creează o variabilă numită `number` și atribuie-i valoarea `10`\n",
    "number = 10"
   ]
  },
  {
   "cell_type": "code",
   "execution_count": 65,
   "metadata": {},
   "outputs": [
    {
     "name": "stdout",
     "output_type": "stream",
     "text": [
      "10\n"
     ]
    }
   ],
   "source": [
    "# Acum afișează valoarea variabilei `number` folosind funcția `print`\n",
    "print(number)"
   ]
  },
  {
   "cell_type": "code",
   "execution_count": 66,
   "metadata": {},
   "outputs": [
    {
     "name": "stdout",
     "output_type": "stream",
     "text": [
      "10\n"
     ]
    }
   ],
   "source": [
    "# Acum creează o nouă variabilă numită `number2` și atribuie-i valoarea `number` și afișează valoarea variabilei `number2` folosind funcția `print`\n",
    "number2 = number\n",
    "print(number2)"
   ]
  },
  {
   "cell_type": "code",
   "execution_count": 67,
   "metadata": {},
   "outputs": [],
   "source": [
    "# Acum creează o nouă variabilă numită `number3` și atribuie-i valoarea `4\n",
    "number3 = 4"
   ]
  },
  {
   "cell_type": "code",
   "execution_count": 68,
   "metadata": {},
   "outputs": [
    {
     "name": "stdout",
     "output_type": "stream",
     "text": [
      "4\n",
      "10\n",
      "10\n",
      "10\n",
      "False\n"
     ]
    }
   ],
   "source": [
    "# Acum aplică toate operațiile pe care le-ai învățat în lecție asupra variabilelor `number` și `number3` și afișează rezultatele folosind funcția `print`\n",
    "# Operațiile sunt: adunare, scădere, înmulțire, împărțire, modulo, exponențiere, împărțire întreagă\n",
    "print(number and number3)\n",
    "print(number or number3)\n",
    "print(number and number2)\n",
    "print(number or number2)\n",
    "print(not number3)"
   ]
  },
  {
   "cell_type": "code",
   "execution_count": 69,
   "metadata": {},
   "outputs": [],
   "source": [
    "# Creează o nouă variabilă numită `number4` și atribuie-i o valoare numerică mare într-un mod literal\n",
    "number4 = 10000000041415162245474000124141"
   ]
  },
  {
   "cell_type": "code",
   "execution_count": 70,
   "metadata": {},
   "outputs": [
    {
     "name": "stdout",
     "output_type": "stream",
     "text": [
      "<class 'int'>\n"
     ]
    }
   ],
   "source": [
    "# Acum afișează tipul variabilei `number4` folosind funcția `print`\n",
    "print(type(number4))"
   ]
  },
  {
   "cell_type": "code",
   "execution_count": 71,
   "metadata": {},
   "outputs": [],
   "source": [
    "# Creați o variabilă `numar` și atribuiții valoarea 5.0\n",
    "numar = 5.0"
   ]
  },
  {
   "cell_type": "code",
   "execution_count": 72,
   "metadata": {},
   "outputs": [
    {
     "name": "stdout",
     "output_type": "stream",
     "text": [
      "<class 'float'>\n"
     ]
    }
   ],
   "source": [
    "# Acum afișați tipul lui `numar` folosind funcția `print`\n",
    "print(type(numar))"
   ]
  },
  {
   "cell_type": "code",
   "execution_count": 73,
   "metadata": {},
   "outputs": [],
   "source": [
    "# Acum creați o variabilă `numar2` și atribuiții valoarea 2.0\n",
    "numar2 = 2.0"
   ]
  },
  {
   "cell_type": "code",
   "execution_count": 74,
   "metadata": {},
   "outputs": [],
   "source": [
    "# Acum creați o variabila `numar_mare` și atribuiți-i o valoare mare utilizând numerele literale\n",
    "numar_mare = 100981_484838_11111"
   ]
  },
  {
   "cell_type": "code",
   "execution_count": 75,
   "metadata": {},
   "outputs": [
    {
     "name": "stdout",
     "output_type": "stream",
     "text": [
      "10098148483811111\n"
     ]
    }
   ],
   "source": [
    "# Acum afișați tipul lui `numar_mare` folosind funcția `print`\n",
    "print(numar_mare)\n"
   ]
  },
  {
   "cell_type": "code",
   "execution_count": 76,
   "metadata": {},
   "outputs": [],
   "source": [
    "# Acum ștergeți variabila `numar_mare` folosind instrucțiunea `del`\n",
    "del numar_mare"
   ]
  }
 ],
 "metadata": {
  "kernelspec": {
   "display_name": "Python 3",
   "language": "python",
   "name": "python3"
  },
  "language_info": {
   "codemirror_mode": {
    "name": "ipython",
    "version": 3
   },
   "file_extension": ".py",
   "mimetype": "text/x-python",
   "name": "python",
   "nbconvert_exporter": "python",
   "pygments_lexer": "ipython3",
   "version": "3.12.2"
  }
 },
 "nbformat": 4,
 "nbformat_minor": 2
}
