{
 "cells": [
  {
   "cell_type": "code",
   "execution_count": 96,
   "metadata": {},
   "outputs": [
    {
     "name": "stdout",
     "output_type": "stream",
     "text": [
      "[3, 1, 5, 2, 4]\n"
     ]
    }
   ],
   "source": [
    "# Creează o listă goală numită `numbers`\n",
    "numbers = []\n",
    "# Acum adaugă numerele de la 1 la 5 în lista `numbers`\n",
    "numbers = [3,1,5,2,4]\n",
    "# Acum afișează lista `numbers`\n",
    "print(numbers)"
   ]
  },
  {
   "cell_type": "code",
   "execution_count": 97,
   "metadata": {},
   "outputs": [
    {
     "name": "stdout",
     "output_type": "stream",
     "text": [
      "[3, 1, 5, 2, 4, 6]\n"
     ]
    }
   ],
   "source": [
    "# Acum adaugă numărul 6 la lista `numbers`\n",
    "numbers.append(6)\n",
    "# Acum afișează lista `numbers`\n",
    "print(numbers)"
   ]
  },
  {
   "cell_type": "code",
   "execution_count": 98,
   "metadata": {},
   "outputs": [
    {
     "name": "stdout",
     "output_type": "stream",
     "text": [
      "[1, 5, 2, 4, 6]\n"
     ]
    }
   ],
   "source": [
    "# Acum șterge numărul 3 din lista `numbers`\n",
    "numbers.remove(3)\n",
    "# Acum afișează lista `numbers`\n",
    "print(numbers)"
   ]
  },
  {
   "cell_type": "code",
   "execution_count": 99,
   "metadata": {},
   "outputs": [
    {
     "name": "stdout",
     "output_type": "stream",
     "text": [
      "[1, 2, 4, 5, 6]\n"
     ]
    }
   ],
   "source": [
    "# Acum sortează lista `numbers`\n",
    "numbers.sort()\n",
    "# Acum afișează lista `numbers`\n",
    "print(numbers)"
   ]
  },
  {
   "cell_type": "code",
   "execution_count": 100,
   "metadata": {},
   "outputs": [
    {
     "name": "stdout",
     "output_type": "stream",
     "text": [
      "[6, 5, 4, 2, 1]\n"
     ]
    }
   ],
   "source": [
    "# Acum inversează lista `numbers`\n",
    "numbers.reverse()\n",
    "# Acum afișează lista `numbers`\n",
    "print(numbers)"
   ]
  },
  {
   "cell_type": "code",
   "execution_count": 101,
   "metadata": {},
   "outputs": [
    {
     "name": "stdout",
     "output_type": "stream",
     "text": [
      "5\n"
     ]
    }
   ],
   "source": [
    "print(len(numbers))"
   ]
  },
  {
   "cell_type": "code",
   "execution_count": 102,
   "metadata": {},
   "outputs": [
    {
     "name": "stdout",
     "output_type": "stream",
     "text": [
      "[6, 5]\n"
     ]
    }
   ],
   "source": [
    "# Acum selectează primele două elemente din lista `numbers` și afișează-le\n",
    "print(numbers[0:2])"
   ]
  },
  {
   "cell_type": "code",
   "execution_count": 103,
   "metadata": {},
   "outputs": [
    {
     "name": "stdout",
     "output_type": "stream",
     "text": [
      "[4, 2, 1]\n",
      "[4, 2, 1]\n"
     ]
    }
   ],
   "source": [
    "# Acum selectează ultimele trei elemente din lista `numbers` și afișează-le\n",
    "print(numbers[2:])\n",
    "print(numbers[-3:])"
   ]
  },
  {
   "cell_type": "code",
   "execution_count": 104,
   "metadata": {},
   "outputs": [
    {
     "name": "stdout",
     "output_type": "stream",
     "text": [
      "[6, 5, 3, 4, 2, 1]\n"
     ]
    }
   ],
   "source": [
    "# Acum adaugă numărul 3 la poziția 2 în lista `numbers`\n",
    "numbers.insert(2, 3)\n",
    "# Acum afișează lista `numbers`\n",
    "print(numbers)"
   ]
  },
  {
   "cell_type": "code",
   "execution_count": 105,
   "metadata": {},
   "outputs": [
    {
     "name": "stdout",
     "output_type": "stream",
     "text": [
      "[10, 6, 9, 7, 8]\n"
     ]
    }
   ],
   "source": [
    "# Creează o listă goală numită `numbers2`\n",
    "numbers2 = []\n",
    "# Acum adaugă numerele de la 6 la 10 în lista `numbers2`\n",
    "numbers2 = [10, 6, 9, 7, 8]\n",
    "# Acum afișează lista `numbers2`\n",
    "print(numbers2)"
   ]
  },
  {
   "cell_type": "code",
   "execution_count": 106,
   "metadata": {},
   "outputs": [
    {
     "name": "stdout",
     "output_type": "stream",
     "text": [
      "[6, 5, 3, 4, 2, 1, 10, 6, 9, 7, 8]\n"
     ]
    }
   ],
   "source": [
    "# Acum adaugă lista `numbers2` la lista `numbers`\n",
    "numbers = numbers + numbers2\n",
    "print(numbers)"
   ]
  },
  {
   "cell_type": "code",
   "execution_count": 107,
   "metadata": {},
   "outputs": [
    {
     "name": "stdout",
     "output_type": "stream",
     "text": [
      "[6, 5, 3, 4, 2, 1, 10, 6, 9, 7, 8]\n"
     ]
    }
   ],
   "source": [
    "# Acum afișează lista `numbers`\n",
    "print(numbers)"
   ]
  },
  {
   "cell_type": "code",
   "execution_count": 108,
   "metadata": {},
   "outputs": [
    {
     "name": "stdout",
     "output_type": "stream",
     "text": [
      "[6, 5, 3, 4, 2, 1, 10, 6, 9, 7, 8]\n",
      "<class 'str'>\n"
     ]
    }
   ],
   "source": [
    "# Acum transformă lista `numbers` într-un string și afișează-l\n",
    "numbers = str(numbers)\n",
    "print(numbers)\n",
    "print(type(numbers))"
   ]
  }
 ],
 "metadata": {
  "kernelspec": {
   "display_name": "Python 3",
   "language": "python",
   "name": "python3"
  },
  "language_info": {
   "codemirror_mode": {
    "name": "ipython",
    "version": 3
   },
   "file_extension": ".py",
   "mimetype": "text/x-python",
   "name": "python",
   "nbconvert_exporter": "python",
   "pygments_lexer": "ipython3",
   "version": "3.12.2"
  }
 },
 "nbformat": 4,
 "nbformat_minor": 2
}
