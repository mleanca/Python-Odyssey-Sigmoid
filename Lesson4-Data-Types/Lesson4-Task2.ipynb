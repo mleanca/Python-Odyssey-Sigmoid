{
 "cells": [
  {
   "cell_type": "code",
   "execution_count": 44,
   "metadata": {},
   "outputs": [
    {
     "name": "stdout",
     "output_type": "stream",
     "text": [
      "Myreen Leancă\n"
     ]
    }
   ],
   "source": [
    "# Creează o variabilă numită `name` și seteaz-o la numele tău\n",
    "name = \"Myreen Leancă\"\n",
    "# Acum afișează valoarea variabilei `name` folosind funcția `print`\n",
    "print(name)"
   ]
  },
  {
   "cell_type": "code",
   "execution_count": 45,
   "metadata": {},
   "outputs": [
    {
     "name": "stdout",
     "output_type": "stream",
     "text": [
      "Myreen Leancă\n"
     ]
    }
   ],
   "source": [
    "# Acum creează o nouă variabilă numită `name2` și seteaz-o la valoarea variabilei `name` și afișează valoarea variabilei `name2` folosind funcția `print`\n",
    "name2 = name\n",
    "print(name2)"
   ]
  },
  {
   "cell_type": "code",
   "execution_count": 46,
   "metadata": {},
   "outputs": [
    {
     "name": "stdout",
     "output_type": "stream",
     "text": [
      "ă\n",
      "ă\n",
      "Myr\n"
     ]
    }
   ],
   "source": [
    "# Acum printează ultimul caracter al variabilei `name` folosind indexarea\n",
    "print(name[-1])\n",
    "print(name[12])\n",
    "# Acum printează primele 3 caractere ale variabilei `name` folosind slicing\n",
    "print(name[0:3])"
   ]
  },
  {
   "cell_type": "code",
   "execution_count": 47,
   "metadata": {},
   "outputs": [
    {
     "data": {
      "text/plain": [
       "'MYREEN LEANCĂ'"
      ]
     },
     "execution_count": 47,
     "metadata": {},
     "output_type": "execute_result"
    }
   ],
   "source": [
    "# Acum printează valoarea variabilei `name` în majuscule folosind metoda `upper`\n",
    "name.upper()"
   ]
  },
  {
   "cell_type": "code",
   "execution_count": 48,
   "metadata": {},
   "outputs": [
    {
     "data": {
      "text/plain": [
       "'myreen leancă'"
      ]
     },
     "execution_count": 48,
     "metadata": {},
     "output_type": "execute_result"
    }
   ],
   "source": [
    "# Acum printează valoarea variabilei `name` în minuscule folosind metoda `lower`\n",
    "name.lower()"
   ]
  },
  {
   "cell_type": "code",
   "execution_count": 49,
   "metadata": {},
   "outputs": [
    {
     "name": "stdout",
     "output_type": "stream",
     "text": [
      "Myreen LeancăMyreen Leancă\n",
      "Myreen Leancă Myreen Leancă\n"
     ]
    }
   ],
   "source": [
    "# Acum printează concatenarea variabilelor `name` și `name2`\n",
    "print(name + name2)\n",
    "print(name, name2)"
   ]
  },
  {
   "cell_type": "code",
   "execution_count": 50,
   "metadata": {},
   "outputs": [
    {
     "name": "stdout",
     "output_type": "stream",
     "text": [
      "True\n"
     ]
    }
   ],
   "source": [
    "# Creează o variabilă `text` și setează-i un text la alegere, cu restricția ca acesta să conțină mai multe rânduri\n",
    "text = \"\"\"\n",
    "Sigmoid AI in cadrul Python Odyssey,\n",
    "preda cursul privind limbaj de programare python\n",
    "in regim online.\n",
    "Ei sunt cel mai tari echipa!\n",
    "\"\"\"\n",
    "# Verifică dacă variabila `text` conține cuvântul `python`\n",
    "if \"python\" in text:\n",
    "    print(\"True\")\n",
    "else:\n",
    "    print(\"False\")"
   ]
  },
  {
   "cell_type": "code",
   "execution_count": 51,
   "metadata": {},
   "outputs": [
    {
     "data": {
      "text/plain": [
       "'\\nSigmoid AI in cedrul Python Odyssey,\\nprede cursul privind limbej de progremere python\\nin regim online.\\nEi sunt cel mei teri echipe!\\n'"
      ]
     },
     "execution_count": 51,
     "metadata": {},
     "output_type": "execute_result"
    }
   ],
   "source": [
    "# Folosește metoda replace pentru a înlocui litera `a` din variabila `text` cu litera `e`\n",
    "text.replace(\"a\", \"e\")"
   ]
  },
  {
   "cell_type": "code",
   "execution_count": 52,
   "metadata": {},
   "outputs": [
    {
     "data": {
      "text/plain": [
       "['Sigmoid',\n",
       " 'AI',\n",
       " 'in',\n",
       " 'cadrul',\n",
       " 'Python',\n",
       " 'Odyssey,',\n",
       " 'preda',\n",
       " 'cursul',\n",
       " 'privind',\n",
       " 'limbaj',\n",
       " 'de',\n",
       " 'programare',\n",
       " 'python',\n",
       " 'in',\n",
       " 'regim',\n",
       " 'online.',\n",
       " 'Ei',\n",
       " 'sunt',\n",
       " 'cel',\n",
       " 'mai',\n",
       " 'tari',\n",
       " 'echipa!']"
      ]
     },
     "execution_count": 52,
     "metadata": {},
     "output_type": "execute_result"
    }
   ],
   "source": [
    "# Folosește metoda split pentru a transforma variabila `text` într-o listă de cuvinte\n",
    "text.split()"
   ]
  },
  {
   "cell_type": "code",
   "execution_count": 53,
   "metadata": {},
   "outputs": [
    {
     "name": "stdout",
     "output_type": "stream",
     "text": [
      "Mă numesc Myreen Leancă și locuiesc in Moldova. My name is Myreen Leancă and live in Moldova.\n"
     ]
    }
   ],
   "source": [
    "# Creează un f-string care să conțină variabilele `name` și `name2`\n",
    "f_string = f\"Mă numesc {name} și locuiesc in Moldova. My name is {name2} and live in Moldova.\"\n",
    "print(f_string)"
   ]
  },
  {
   "cell_type": "code",
   "execution_count": 54,
   "metadata": {},
   "outputs": [
    {
     "name": "stdout",
     "output_type": "stream",
     "text": [
      "False\n",
      "False\n"
     ]
    }
   ],
   "source": [
    "# Verifică dacă string-ul creat se termină cu `!`\n",
    "if \"!\" in f_string:\n",
    "    print(\"True\")\n",
    "else:\n",
    "    print(\"False\")\n",
    "\n",
    "# Verifică dacă string-ul creat începe cu `Hello`\n",
    "if \"Hello\" in f_string:\n",
    "    print(\"True\")\n",
    "else:\n",
    "    print(\"False\")"
   ]
  },
  {
   "cell_type": "code",
   "execution_count": 55,
   "metadata": {},
   "outputs": [
    {
     "data": {
      "text/plain": [
       "-1"
      ]
     },
     "execution_count": 55,
     "metadata": {},
     "output_type": "execute_result"
    }
   ],
   "source": [
    "# Identifică indexul unde se află `!` în string-ul creat\n",
    "f_string.find(\"!\")"
   ]
  },
  {
   "cell_type": "code",
   "execution_count": 56,
   "metadata": {},
   "outputs": [
    {
     "data": {
      "text/plain": [
       "28"
      ]
     },
     "execution_count": 56,
     "metadata": {},
     "output_type": "execute_result"
    }
   ],
   "source": [
    "# Identifică indexul unde se află `o` în string-ul creat folosind altă metodă\n",
    "f_string.index(\"o\")"
   ]
  },
  {
   "cell_type": "code",
   "execution_count": 59,
   "metadata": {},
   "outputs": [
    {
     "name": "stdout",
     "output_type": "stream",
     "text": [
      "Ang pangalan ko ay Myreen Leancă at nakatira ako sa Moldova. 我的名字是 Myreen Leancă，我住在摩尔多瓦\n"
     ]
    }
   ],
   "source": [
    "# Utilizând format string-uri, creează un string care să conțină variabilele `name` și `name2`\n",
    "format_string = \"Ang pangalan ko ay {} at nakatira ako sa Moldova. 我的名字是 {}，我住在摩尔多瓦\".format(name, name2)\n",
    "print(format_string)"
   ]
  },
  {
   "cell_type": "code",
   "execution_count": 61,
   "metadata": {},
   "outputs": [
    {
     "name": "stdout",
     "output_type": "stream",
     "text": [
      "Mă numesc Myreen Leancă și locuiesc in Moldova. My name is Myreen Leancă and live in Moldova. Ang pangalan ko ay Myreen Leancă at nakatira ako sa Moldova. 我的名字是 Myreen Leancă，我住在摩尔多瓦\n",
      "181\n"
     ]
    }
   ],
   "source": [
    "# Concatenează string-ul creat cu string-ul `text`\n",
    "print(f_string, format_string)\n",
    "# Afișează lungimea string-ului creat\n",
    "strings = f_string + format_string\n",
    "print(len(strings))"
   ]
  }
 ],
 "metadata": {
  "kernelspec": {
   "display_name": "Python 3",
   "language": "python",
   "name": "python3"
  },
  "language_info": {
   "codemirror_mode": {
    "name": "ipython",
    "version": 3
   },
   "file_extension": ".py",
   "mimetype": "text/x-python",
   "name": "python",
   "nbconvert_exporter": "python",
   "pygments_lexer": "ipython3",
   "version": "3.12.2"
  }
 },
 "nbformat": 4,
 "nbformat_minor": 2
}
